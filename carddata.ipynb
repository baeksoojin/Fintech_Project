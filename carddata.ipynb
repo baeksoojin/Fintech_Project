{
  "nbformat": 4,
  "nbformat_minor": 0,
  "metadata": {
    "colab": {
      "name": "Untitled0.ipynb",
      "provenance": [],
      "collapsed_sections": [],
      "authorship_tag": "ABX9TyPn2rW9NYMc0oSwu+omuyVM",
      "include_colab_link": true
    },
    "kernelspec": {
      "name": "python3",
      "display_name": "Python 3"
    },
    "language_info": {
      "name": "python"
    }
  },
  "cells": [
    {
      "cell_type": "markdown",
      "metadata": {
        "id": "view-in-github",
        "colab_type": "text"
      },
      "source": [
        "<a href=\"https://colab.research.google.com/github/sujin-create/Fintech_Project/blob/main/carddata.ipynb\" target=\"_parent\"><img src=\"https://colab.research.google.com/assets/colab-badge.svg\" alt=\"Open In Colab\"/></a>"
      ]
    },
    {
      "cell_type": "code",
      "execution_count": 2,
      "metadata": {
        "colab": {
          "base_uri": "https://localhost:8080/"
        },
        "id": "Ne_lwBOfm2PU",
        "outputId": "22305bf9-a1dd-4889-fc83-216cadf8d221"
      },
      "outputs": [
        {
          "output_type": "stream",
          "name": "stdout",
          "text": [
            "Looking in indexes: https://pypi.org/simple, https://us-python.pkg.dev/colab-wheels/public/simple/\n",
            "Collecting pymysql\n",
            "  Downloading PyMySQL-1.0.2-py3-none-any.whl (43 kB)\n",
            "\u001b[K     |████████████████████████████████| 43 kB 1.1 MB/s \n",
            "\u001b[?25hInstalling collected packages: pymysql\n",
            "Successfully installed pymysql-1.0.2\n",
            "Looking in indexes: https://pypi.org/simple, https://us-python.pkg.dev/colab-wheels/public/simple/\n",
            "Requirement already satisfied: matplotlib in /usr/local/lib/python3.7/dist-packages (3.2.2)\n",
            "Requirement already satisfied: python-dateutil>=2.1 in /usr/local/lib/python3.7/dist-packages (from matplotlib) (2.8.2)\n",
            "Requirement already satisfied: cycler>=0.10 in /usr/local/lib/python3.7/dist-packages (from matplotlib) (0.11.0)\n",
            "Requirement already satisfied: numpy>=1.11 in /usr/local/lib/python3.7/dist-packages (from matplotlib) (1.21.6)\n",
            "Requirement already satisfied: kiwisolver>=1.0.1 in /usr/local/lib/python3.7/dist-packages (from matplotlib) (1.4.4)\n",
            "Requirement already satisfied: pyparsing!=2.0.4,!=2.1.2,!=2.1.6,>=2.0.1 in /usr/local/lib/python3.7/dist-packages (from matplotlib) (3.0.9)\n",
            "Requirement already satisfied: typing-extensions in /usr/local/lib/python3.7/dist-packages (from kiwisolver>=1.0.1->matplotlib) (4.1.1)\n",
            "Requirement already satisfied: six>=1.5 in /usr/local/lib/python3.7/dist-packages (from python-dateutil>=2.1->matplotlib) (1.15.0)\n",
            "Looking in indexes: https://pypi.org/simple, https://us-python.pkg.dev/colab-wheels/public/simple/\n",
            "Requirement already satisfied: seaborn in /usr/local/lib/python3.7/dist-packages (0.11.2)\n",
            "Requirement already satisfied: matplotlib>=2.2 in /usr/local/lib/python3.7/dist-packages (from seaborn) (3.2.2)\n",
            "Requirement already satisfied: scipy>=1.0 in /usr/local/lib/python3.7/dist-packages (from seaborn) (1.7.3)\n",
            "Requirement already satisfied: numpy>=1.15 in /usr/local/lib/python3.7/dist-packages (from seaborn) (1.21.6)\n",
            "Requirement already satisfied: pandas>=0.23 in /usr/local/lib/python3.7/dist-packages (from seaborn) (1.3.5)\n",
            "Requirement already satisfied: cycler>=0.10 in /usr/local/lib/python3.7/dist-packages (from matplotlib>=2.2->seaborn) (0.11.0)\n",
            "Requirement already satisfied: pyparsing!=2.0.4,!=2.1.2,!=2.1.6,>=2.0.1 in /usr/local/lib/python3.7/dist-packages (from matplotlib>=2.2->seaborn) (3.0.9)\n",
            "Requirement already satisfied: kiwisolver>=1.0.1 in /usr/local/lib/python3.7/dist-packages (from matplotlib>=2.2->seaborn) (1.4.4)\n",
            "Requirement already satisfied: python-dateutil>=2.1 in /usr/local/lib/python3.7/dist-packages (from matplotlib>=2.2->seaborn) (2.8.2)\n",
            "Requirement already satisfied: typing-extensions in /usr/local/lib/python3.7/dist-packages (from kiwisolver>=1.0.1->matplotlib>=2.2->seaborn) (4.1.1)\n",
            "Requirement already satisfied: pytz>=2017.3 in /usr/local/lib/python3.7/dist-packages (from pandas>=0.23->seaborn) (2022.1)\n",
            "Requirement already satisfied: six>=1.5 in /usr/local/lib/python3.7/dist-packages (from python-dateutil>=2.1->matplotlib>=2.2->seaborn) (1.15.0)\n"
          ]
        }
      ],
      "source": [
        "!pip install pymysql\n",
        "!pip install matplotlib\n",
        "!pip install seaborn"
      ]
    },
    {
      "cell_type": "code",
      "source": [
        "import pandas as pd \n",
        "import io\n",
        "import pymysql \n",
        "import matplotlib.pyplot as plt \n",
        "%matplotlib inline \n",
        "import seaborn as sns \n",
        "sns.set()"
      ],
      "metadata": {
        "id": "ZrZCTuwGnB-G"
      },
      "execution_count": 3,
      "outputs": []
    },
    {
      "cell_type": "code",
      "source": [
        "from google.colab import files\n",
        "myfile = files.upload()"
      ],
      "metadata": {
        "colab": {
          "resources": {
            "http://localhost:8080/nbextensions/google.colab/files.js": {
              "data": "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",
              "ok": true,
              "headers": [
                [
                  "content-type",
                  "application/javascript"
                ]
              ],
              "status": 200,
              "status_text": ""
            }
          },
          "base_uri": "https://localhost:8080/",
          "height": 77
        },
        "id": "bVOGAtsFp3P-",
        "outputId": "93de83fa-d97e-4db9-c8c4-7bb08c76a1cc"
      },
      "execution_count": 53,
      "outputs": [
        {
          "output_type": "display_data",
          "data": {
            "text/plain": [
              "<IPython.core.display.HTML object>"
            ],
            "text/html": [
              "\n",
              "     <input type=\"file\" id=\"files-05d81ccd-0445-48e8-b844-6c1d45ac9f75\" name=\"files[]\" multiple disabled\n",
              "        style=\"border:none\" />\n",
              "     <output id=\"result-05d81ccd-0445-48e8-b844-6c1d45ac9f75\">\n",
              "      Upload widget is only available when the cell has been executed in the\n",
              "      current browser session. Please rerun this cell to enable.\n",
              "      </output>\n",
              "      <script src=\"/nbextensions/google.colab/files.js\"></script> "
            ]
          },
          "metadata": {}
        },
        {
          "output_type": "stream",
          "name": "stdout",
          "text": [
            "Saving hyundaicard_20220813.csv to hyundaicard_20220813 (2).csv\n"
          ]
        }
      ]
    },
    {
      "cell_type": "code",
      "source": [
        "df = pd.read_csv(io.BytesIO(myfile['hyundaicard_20220813.csv']))\n",
        "df.head()"
      ],
      "metadata": {
        "colab": {
          "base_uri": "https://localhost:8080/",
          "height": 206
        },
        "id": "eargzPsxJ_mL",
        "outputId": "06ecd274-c92a-4fbc-acac-91bc4a30fa29"
      },
      "execution_count": 54,
      "outputs": [
        {
          "output_type": "execute_result",
          "data": {
            "text/plain": [
              "         date               storename sector   price\n",
              "0  2022-08-10           나이스 - 페이레터(주)  쇼핑/유통   1,000\n",
              "1  2022-08-09          KCP - 주식회사 위메프  쇼핑/유통   2,900\n",
              "2  2022-08-01  토스페이먼츠주식회사 - ( 주 ) 야놀자  쇼핑/유통  27,000\n",
              "3  2022-08-01       나이스 - 제이디스포츠패션코리아  쇼핑/유통  20,500\n",
              "4  2022-07-19    지마켓_스마일카드 - 주식회사 지마켓  쇼핑/유통  13,110"
            ],
            "text/html": [
              "\n",
              "  <div id=\"df-92d887db-477c-467d-aba3-932dfd6f51e9\">\n",
              "    <div class=\"colab-df-container\">\n",
              "      <div>\n",
              "<style scoped>\n",
              "    .dataframe tbody tr th:only-of-type {\n",
              "        vertical-align: middle;\n",
              "    }\n",
              "\n",
              "    .dataframe tbody tr th {\n",
              "        vertical-align: top;\n",
              "    }\n",
              "\n",
              "    .dataframe thead th {\n",
              "        text-align: right;\n",
              "    }\n",
              "</style>\n",
              "<table border=\"1\" class=\"dataframe\">\n",
              "  <thead>\n",
              "    <tr style=\"text-align: right;\">\n",
              "      <th></th>\n",
              "      <th>date</th>\n",
              "      <th>storename</th>\n",
              "      <th>sector</th>\n",
              "      <th>price</th>\n",
              "    </tr>\n",
              "  </thead>\n",
              "  <tbody>\n",
              "    <tr>\n",
              "      <th>0</th>\n",
              "      <td>2022-08-10</td>\n",
              "      <td>나이스 - 페이레터(주)</td>\n",
              "      <td>쇼핑/유통</td>\n",
              "      <td>1,000</td>\n",
              "    </tr>\n",
              "    <tr>\n",
              "      <th>1</th>\n",
              "      <td>2022-08-09</td>\n",
              "      <td>KCP - 주식회사 위메프</td>\n",
              "      <td>쇼핑/유통</td>\n",
              "      <td>2,900</td>\n",
              "    </tr>\n",
              "    <tr>\n",
              "      <th>2</th>\n",
              "      <td>2022-08-01</td>\n",
              "      <td>토스페이먼츠주식회사 - ( 주 ) 야놀자</td>\n",
              "      <td>쇼핑/유통</td>\n",
              "      <td>27,000</td>\n",
              "    </tr>\n",
              "    <tr>\n",
              "      <th>3</th>\n",
              "      <td>2022-08-01</td>\n",
              "      <td>나이스 - 제이디스포츠패션코리아</td>\n",
              "      <td>쇼핑/유통</td>\n",
              "      <td>20,500</td>\n",
              "    </tr>\n",
              "    <tr>\n",
              "      <th>4</th>\n",
              "      <td>2022-07-19</td>\n",
              "      <td>지마켓_스마일카드 - 주식회사 지마켓</td>\n",
              "      <td>쇼핑/유통</td>\n",
              "      <td>13,110</td>\n",
              "    </tr>\n",
              "  </tbody>\n",
              "</table>\n",
              "</div>\n",
              "      <button class=\"colab-df-convert\" onclick=\"convertToInteractive('df-92d887db-477c-467d-aba3-932dfd6f51e9')\"\n",
              "              title=\"Convert this dataframe to an interactive table.\"\n",
              "              style=\"display:none;\">\n",
              "        \n",
              "  <svg xmlns=\"http://www.w3.org/2000/svg\" height=\"24px\"viewBox=\"0 0 24 24\"\n",
              "       width=\"24px\">\n",
              "    <path d=\"M0 0h24v24H0V0z\" fill=\"none\"/>\n",
              "    <path d=\"M18.56 5.44l.94 2.06.94-2.06 2.06-.94-2.06-.94-.94-2.06-.94 2.06-2.06.94zm-11 1L8.5 8.5l.94-2.06 2.06-.94-2.06-.94L8.5 2.5l-.94 2.06-2.06.94zm10 10l.94 2.06.94-2.06 2.06-.94-2.06-.94-.94-2.06-.94 2.06-2.06.94z\"/><path d=\"M17.41 7.96l-1.37-1.37c-.4-.4-.92-.59-1.43-.59-.52 0-1.04.2-1.43.59L10.3 9.45l-7.72 7.72c-.78.78-.78 2.05 0 2.83L4 21.41c.39.39.9.59 1.41.59.51 0 1.02-.2 1.41-.59l7.78-7.78 2.81-2.81c.8-.78.8-2.07 0-2.86zM5.41 20L4 18.59l7.72-7.72 1.47 1.35L5.41 20z\"/>\n",
              "  </svg>\n",
              "      </button>\n",
              "      \n",
              "  <style>\n",
              "    .colab-df-container {\n",
              "      display:flex;\n",
              "      flex-wrap:wrap;\n",
              "      gap: 12px;\n",
              "    }\n",
              "\n",
              "    .colab-df-convert {\n",
              "      background-color: #E8F0FE;\n",
              "      border: none;\n",
              "      border-radius: 50%;\n",
              "      cursor: pointer;\n",
              "      display: none;\n",
              "      fill: #1967D2;\n",
              "      height: 32px;\n",
              "      padding: 0 0 0 0;\n",
              "      width: 32px;\n",
              "    }\n",
              "\n",
              "    .colab-df-convert:hover {\n",
              "      background-color: #E2EBFA;\n",
              "      box-shadow: 0px 1px 2px rgba(60, 64, 67, 0.3), 0px 1px 3px 1px rgba(60, 64, 67, 0.15);\n",
              "      fill: #174EA6;\n",
              "    }\n",
              "\n",
              "    [theme=dark] .colab-df-convert {\n",
              "      background-color: #3B4455;\n",
              "      fill: #D2E3FC;\n",
              "    }\n",
              "\n",
              "    [theme=dark] .colab-df-convert:hover {\n",
              "      background-color: #434B5C;\n",
              "      box-shadow: 0px 1px 3px 1px rgba(0, 0, 0, 0.15);\n",
              "      filter: drop-shadow(0px 1px 2px rgba(0, 0, 0, 0.3));\n",
              "      fill: #FFFFFF;\n",
              "    }\n",
              "  </style>\n",
              "\n",
              "      <script>\n",
              "        const buttonEl =\n",
              "          document.querySelector('#df-92d887db-477c-467d-aba3-932dfd6f51e9 button.colab-df-convert');\n",
              "        buttonEl.style.display =\n",
              "          google.colab.kernel.accessAllowed ? 'block' : 'none';\n",
              "\n",
              "        async function convertToInteractive(key) {\n",
              "          const element = document.querySelector('#df-92d887db-477c-467d-aba3-932dfd6f51e9');\n",
              "          const dataTable =\n",
              "            await google.colab.kernel.invokeFunction('convertToInteractive',\n",
              "                                                     [key], {});\n",
              "          if (!dataTable) return;\n",
              "\n",
              "          const docLinkHtml = 'Like what you see? Visit the ' +\n",
              "            '<a target=\"_blank\" href=https://colab.research.google.com/notebooks/data_table.ipynb>data table notebook</a>'\n",
              "            + ' to learn more about interactive tables.';\n",
              "          element.innerHTML = '';\n",
              "          dataTable['output_type'] = 'display_data';\n",
              "          await google.colab.output.renderOutput(dataTable, element);\n",
              "          const docLink = document.createElement('div');\n",
              "          docLink.innerHTML = docLinkHtml;\n",
              "          element.appendChild(docLink);\n",
              "        }\n",
              "      </script>\n",
              "    </div>\n",
              "  </div>\n",
              "  "
            ]
          },
          "metadata": {},
          "execution_count": 54
        }
      ]
    },
    {
      "cell_type": "code",
      "source": [
        "df5 = df.drop(['date','storename'], axis=1)\n",
        "df5.info()"
      ],
      "metadata": {
        "id": "6zqG6gVYBLxE",
        "outputId": "66bedaab-e579-4665-b98f-a11afe4447ce",
        "colab": {
          "base_uri": "https://localhost:8080/"
        }
      },
      "execution_count": 63,
      "outputs": [
        {
          "output_type": "stream",
          "name": "stdout",
          "text": [
            "<class 'pandas.core.frame.DataFrame'>\n",
            "RangeIndex: 185 entries, 0 to 184\n",
            "Data columns (total 2 columns):\n",
            " #   Column  Non-Null Count  Dtype \n",
            "---  ------  --------------  ----- \n",
            " 0   sector  185 non-null    object\n",
            " 1   price   185 non-null    object\n",
            "dtypes: object(2)\n",
            "memory usage: 3.0+ KB\n"
          ]
        }
      ]
    },
    {
      "cell_type": "code",
      "source": [
        "df5.info()"
      ],
      "metadata": {
        "id": "jrATJOwUEXA3",
        "outputId": "0beef089-03db-4fc2-a756-4745657b1f13",
        "colab": {
          "base_uri": "https://localhost:8080/"
        }
      },
      "execution_count": 69,
      "outputs": [
        {
          "output_type": "stream",
          "name": "stdout",
          "text": [
            "<class 'pandas.core.frame.DataFrame'>\n",
            "RangeIndex: 185 entries, 0 to 184\n",
            "Data columns (total 2 columns):\n",
            " #   Column  Non-Null Count  Dtype \n",
            "---  ------  --------------  ----- \n",
            " 0   sector  185 non-null    object\n",
            " 1   price   185 non-null    int64 \n",
            "dtypes: int64(1), object(1)\n",
            "memory usage: 3.0+ KB\n"
          ]
        }
      ]
    },
    {
      "cell_type": "code",
      "source": [
        "print(df5.groupby(['sector'])['price'].agg('sum'))"
      ],
      "metadata": {
        "id": "WhUTfSjeABU1",
        "outputId": "527dcbe3-06f1-48e7-ebac-1ba011893f83",
        "colab": {
          "base_uri": "https://localhost:8080/"
        }
      },
      "execution_count": 70,
      "outputs": [
        {
          "output_type": "stream",
          "name": "stdout",
          "text": [
            "sector\n",
            "문화/오락/레져     576800\n",
            "쇼핑/유통       1416654\n",
            "요식           300700\n",
            "의료(병/의원)     232400\n",
            "Name: price, dtype: int64\n"
          ]
        }
      ]
    },
    {
      "cell_type": "code",
      "source": [
        "conn = pymysql.connect(host='autotrading-db.cjolqhecq70a.ap-northeast-2.rds.amazonaws.com',\n",
        "                       user = 'admin',\n",
        "                       password='autotrading1234',\n",
        "                       db = 'Fintech',\n",
        "                       charset = 'utf8')\n",
        "curs = conn.cursor()"
      ],
      "metadata": {
        "id": "NCLH8xArAwCJ"
      },
      "execution_count": null,
      "outputs": []
    },
    {
      "cell_type": "code",
      "source": [
        "tagged_corpus_list = []\n",
        "\n",
        "for index, row in df.iterrows():\n",
        "  text = row['sector']\n",
        "  text = str(text)\n",
        "  tag = row['storename']\n",
        "  \n",
        "  if index % 10 == 0:\n",
        "    print(index,'번 수행했습니다.')\n",
        "\n",
        "  tagged_corpus_list.append(TaggedDocument(tags=[tag], words=mecab.morphs(text)))"
      ],
      "metadata": {
        "colab": {
          "base_uri": "https://localhost:8080/"
        },
        "id": "_sdwdx03oHP8",
        "outputId": "08013549-1977-467e-88ba-928c687de817"
      },
      "execution_count": null,
      "outputs": [
        {
          "output_type": "stream",
          "name": "stdout",
          "text": [
            "0 번 수행했습니다.\n",
            "10 번 수행했습니다.\n",
            "20 번 수행했습니다.\n",
            "30 번 수행했습니다.\n",
            "40 번 수행했습니다.\n",
            "50 번 수행했습니다.\n",
            "60 번 수행했습니다.\n",
            "70 번 수행했습니다.\n",
            "80 번 수행했습니다.\n",
            "90 번 수행했습니다.\n",
            "100 번 수행했습니다.\n",
            "110 번 수행했습니다.\n",
            "120 번 수행했습니다.\n",
            "130 번 수행했습니다.\n",
            "140 번 수행했습니다.\n",
            "150 번 수행했습니다.\n",
            "160 번 수행했습니다.\n",
            "170 번 수행했습니다.\n",
            "180 번 수행했습니다.\n",
            "190 번 수행했습니다.\n",
            "200 번 수행했습니다.\n",
            "210 번 수행했습니다.\n",
            "220 번 수행했습니다.\n"
          ]
        }
      ]
    },
    {
      "cell_type": "code",
      "source": [
        "len(tagged_corpus_list)"
      ],
      "metadata": {
        "colab": {
          "base_uri": "https://localhost:8080/"
        },
        "id": "9EX1pqDXoHUQ",
        "outputId": "fc069bfa-fd4a-4ee3-de48-9c34856e75e3"
      },
      "execution_count": null,
      "outputs": [
        {
          "output_type": "execute_result",
          "data": {
            "text/plain": [
              "223"
            ]
          },
          "metadata": {},
          "execution_count": 259
        }
      ]
    },
    {
      "cell_type": "code",
      "source": [
        "tagged_corpus_list[4]"
      ],
      "metadata": {
        "colab": {
          "base_uri": "https://localhost:8080/"
        },
        "id": "h_rcirPmoHc_",
        "outputId": "ac91ec34-4d3e-4f38-f49b-30a2a70765b4"
      },
      "execution_count": null,
      "outputs": [
        {
          "output_type": "execute_result",
          "data": {
            "text/plain": [
              "TaggedDocument(words=['교통'], tags=['07월티머니지하철 14건'])"
            ]
          },
          "metadata": {},
          "execution_count": 260
        }
      ]
    },
    {
      "cell_type": "code",
      "source": [
        "from gensim.models import doc2vec\n",
        "import time"
      ],
      "metadata": {
        "id": "ELqOy5TQoUIM"
      },
      "execution_count": null,
      "outputs": []
    },
    {
      "cell_type": "code",
      "source": [
        "model = doc2vec.Doc2Vec(vector_size=300, alpha=0.025, min_alpha=0.025, workers=8, window=8)\n",
        "\n",
        "# Vocabulary 빌드\n",
        "model.build_vocab(tagged_corpus_list)\n",
        "\n",
        "print(f\"Tag Size: {len(model.docvecs.doctags.keys())}\", end=' / ')\n",
        "\n",
        "# Doc2Vec 학습\n",
        "model.train(tagged_corpus_list, total_examples=model.corpus_count, epochs=50)\n",
        "\n",
        "# 모델 저장\n",
        "model.save('dart.doc2vec')"
      ],
      "metadata": {
        "colab": {
          "base_uri": "https://localhost:8080/"
        },
        "id": "3C5xVyAjoUMs",
        "outputId": "95463497-ae2b-4193-864b-52a4b86d83fc"
      },
      "execution_count": null,
      "outputs": [
        {
          "output_type": "stream",
          "name": "stdout",
          "text": [
            "Tag Size: 130 / "
          ]
        },
        {
          "output_type": "stream",
          "name": "stderr",
          "text": [
            "WARNING:gensim.models.base_any2vec:under 10 jobs per worker: consider setting a smaller `batch_words' for smoother alpha decay\n"
          ]
        }
      ]
    },
    {
      "cell_type": "code",
      "source": [
        "tagged_corpus_list"
      ],
      "metadata": {
        "colab": {
          "base_uri": "https://localhost:8080/"
        },
        "id": "75B9rM5Pvypi",
        "outputId": "fe05acab-24b7-46fc-b2c2-76eabe4493c5"
      },
      "execution_count": null,
      "outputs": [
        {
          "output_type": "execute_result",
          "data": {
            "text/plain": [
              "[TaggedDocument(words=['쇼핑', '/', '유통'], tags=['나이스 - 페이레터(주)']),\n",
              " TaggedDocument(words=['쇼핑', '/', '유통'], tags=['KCP - 주식회사 위메프']),\n",
              " TaggedDocument(words=['쇼핑', '/', '유통'], tags=['토스페이먼츠주식회사 - ( 주 ) 야놀자']),\n",
              " TaggedDocument(words=['쇼핑', '/', '유통'], tags=['나이스 - 제이디스포츠패션코리아']),\n",
              " TaggedDocument(words=['교통'], tags=['07월티머니지하철 14건']),\n",
              " TaggedDocument(words=['교통'], tags=['07월티머니버스 3건']),\n",
              " TaggedDocument(words=['교통'], tags=['우티택시_KCP']),\n",
              " TaggedDocument(words=['쇼핑', '/', '유통'], tags=['지마켓_스마일카드 - 주식회사 지마켓']),\n",
              " TaggedDocument(words=['쇼핑', '/', '유통'], tags=['지마켓_스마일카드 - 주식회사 지마켓']),\n",
              " TaggedDocument(words=['쇼핑', '/', '유통'], tags=['토스페이먼츠주식회사 - (주)무신사']),\n",
              " TaggedDocument(words=['요식'], tags=['한국맥도날드외대점']),\n",
              " TaggedDocument(words=['쇼핑', '/', '유통'], tags=['GS25외대후레쉬점']),\n",
              " TaggedDocument(words=['쇼핑', '/', '유통'], tags=['토스페이먼츠주식회사 - (주)무신사']),\n",
              " TaggedDocument(words=['쇼핑', '/', '유통'], tags=['쮸쮸아이스크림이문점']),\n",
              " TaggedDocument(words=['쇼핑', '/', '유통'], tags=['씨유외대앞역점']),\n",
              " TaggedDocument(words=['쇼핑', '/', '유통'], tags=['이마트용산점']),\n",
              " TaggedDocument(words=['요식'], tags=['행복한뷔페']),\n",
              " TaggedDocument(words=['쇼핑', '/', '유통'], tags=['네이버파이낸셜(주) - 이니스프리 쇼핑몰']),\n",
              " TaggedDocument(words=['쇼핑', '/', '유통'], tags=['지마켓_스마일카드 - 지마켓글로벌 유한책']),\n",
              " TaggedDocument(words=['쇼핑', '/', '유통'], tags=['옥션_스마일카드 - 지마켓글로벌 유한책임']),\n",
              " TaggedDocument(words=['쇼핑', '/', '유통'], tags=['네이버파이낸셜']),\n",
              " TaggedDocument(words=['쇼핑', '/', '유통'], tags=['GS25외대후레쉬점']),\n",
              " TaggedDocument(words=['쇼핑', '/', '유통'], tags=['이마트에브리데이이문점_일반']),\n",
              " TaggedDocument(words=['요식'], tags=['몬스터플레이스이문점']),\n",
              " TaggedDocument(words=['쇼핑', '/', '유통'], tags=['네이버페이']),\n",
              " TaggedDocument(words=['교통'], tags=['06월티머니지하철 8건']),\n",
              " TaggedDocument(words=['교통'], tags=['06월티머니버스 6건']),\n",
              " TaggedDocument(words=['교통'], tags=['06월티머니버스 1건']),\n",
              " TaggedDocument(words=['교통'], tags=['06월티머니지하철 3건']),\n",
              " TaggedDocument(words=['교통'], tags=['06월티머니버스 2건']),\n",
              " TaggedDocument(words=['요식'], tags=['이삭토스트']),\n",
              " TaggedDocument(words=['요식'], tags=['안다미로']),\n",
              " TaggedDocument(words=['의료', '(', '병', '/', '의원', ')'], tags=['더연세유외과의원']),\n",
              " TaggedDocument(words=['의료', '(', '병', '/', '의원', ')'], tags=['보물섬약국']),\n",
              " TaggedDocument(words=['쇼핑', '/', '유통'], tags=['씨유이문1호점']),\n",
              " TaggedDocument(words=['쇼핑', '/', '유통'], tags=['GS25외대2점']),\n",
              " TaggedDocument(words=['쇼핑', '/', '유통'], tags=['지마켓_스마일카드 - 지마켓글로벌 유한책']),\n",
              " TaggedDocument(words=['쇼핑', '/', '유통'], tags=['토스페이먼츠주식회사 - ( 주 ) 야놀자']),\n",
              " TaggedDocument(words=['쇼핑', '/', '유통'], tags=['옥션_스마일카드 - 지마켓글로벌 유한책임']),\n",
              " TaggedDocument(words=['쇼핑', '/', '유통'], tags=['나이스 - 페이레터(주)']),\n",
              " TaggedDocument(words=['쇼핑', '/', '유통'], tags=['옥션_스마일카드 - 지마켓글로벌 유한책임']),\n",
              " TaggedDocument(words=['쇼핑', '/', '유통'], tags=['네이버파이낸셜']),\n",
              " TaggedDocument(words=['기타'], tags=['지에스네트웍스']),\n",
              " TaggedDocument(words=['쇼핑', '/', '유통'], tags=['지마켓_스마일카드 - 지마켓글로벌 유한책']),\n",
              " TaggedDocument(words=['쇼핑', '/', '유통'], tags=['무신사 청구할인 5%']),\n",
              " TaggedDocument(words=['쇼핑', '/', '유통'], tags=['토스페이먼츠주식회사 - (주)무신사']),\n",
              " TaggedDocument(words=['쇼핑', '/', '유통'], tags=['용토끼']),\n",
              " TaggedDocument(words=['쇼핑', '/', '유통'], tags=['용토끼']),\n",
              " TaggedDocument(words=['요식'], tags=['안다미로']),\n",
              " TaggedDocument(words=['요식'], tags=['안다미로']),\n",
              " TaggedDocument(words=['쇼핑', '/', '유통'], tags=['회기두꺼비왕식자재마트']),\n",
              " TaggedDocument(words=['쇼핑', '/', '유통'], tags=['세븐일레븐외대한남점']),\n",
              " TaggedDocument(words=['요식'], tags=['요고요고']),\n",
              " TaggedDocument(words=['쇼핑', '/', '유통'], tags=['이마트에브리데이이문점_일반']),\n",
              " TaggedDocument(words=['요식'], tags=['서브웨이외대점']),\n",
              " TaggedDocument(words=['요식'], tags=['멍군집']),\n",
              " TaggedDocument(words=['요식'], tags=['요고요고']),\n",
              " TaggedDocument(words=['기타'], tags=['왈츠호텔']),\n",
              " TaggedDocument(words=['요식'], tags=['빠니니에꽁빠니']),\n",
              " TaggedDocument(words=['쇼핑', '/', '유통'], tags=['GS25논현드림점']),\n",
              " TaggedDocument(words=['문화', '/', '오락', '/', '레져'], tags=['화양꽃집']),\n",
              " TaggedDocument(words=['문화', '/', '오락', '/', '레져'], tags=['브리즈피씨카페']),\n",
              " TaggedDocument(words=['요식'], tags=['마라우육면']),\n",
              " TaggedDocument(words=['쇼핑', '/', '유통'], tags=['회기두꺼비왕식자재마트']),\n",
              " TaggedDocument(words=['쇼핑', '/', '유통'], tags=['GS25한강반포1호점']),\n",
              " TaggedDocument(words=['쇼핑', '/', '유통'], tags=['GS25외대후레쉬점']),\n",
              " TaggedDocument(words=['요식'], tags=['요고요고']),\n",
              " TaggedDocument(words=['기타'], tags=['05월티머니지하철 2건']),\n",
              " TaggedDocument(words=['요식'], tags=['요고요고']),\n",
              " TaggedDocument(words=['교통'], tags=['05월경기마을 1건']),\n",
              " TaggedDocument(words=['교통'], tags=['05월경기시내버스 2건']),\n",
              " TaggedDocument(words=['교통'], tags=['05월강원버스 2건']),\n",
              " TaggedDocument(words=['교통'], tags=['05월티머니지하철 26건']),\n",
              " TaggedDocument(words=['교통'], tags=['05월티머니버스 10건']),\n",
              " TaggedDocument(words=['쇼핑', '/', '유통'], tags=['세븐일레븐외대한남점']),\n",
              " TaggedDocument(words=['요식'], tags=['커피빈코리아외대앞점']),\n",
              " TaggedDocument(words=['요식'], tags=['또바기치킨']),\n",
              " TaggedDocument(words=['요식'], tags=['요고요고']),\n",
              " TaggedDocument(words=['쇼핑', '/', '유통'], tags=['씨유이문1호점']),\n",
              " TaggedDocument(words=['쇼핑', '/', '유통'], tags=['(주)이니시스 - 빔모빌리티코리아']),\n",
              " TaggedDocument(words=['쇼핑', '/', '유통'], tags=['토스페이먼츠주식회사 - (주)무신사']),\n",
              " TaggedDocument(words=['쇼핑', '/', '유통'], tags=['세븐일레븐외대점']),\n",
              " TaggedDocument(words=['요식'], tags=['카페어텐디']),\n",
              " TaggedDocument(words=['쇼핑', '/', '유통'], tags=['다이소아성산업']),\n",
              " TaggedDocument(words=['요식'], tags=['크레이저']),\n",
              " TaggedDocument(words=['기타'], tags=['지에스네트웍스']),\n",
              " TaggedDocument(words=['요식'], tags=['강창구찹쌀진순대회기점']),\n",
              " TaggedDocument(words=['요식'], tags=['맘스터치외대점']),\n",
              " TaggedDocument(words=['쇼핑', '/', '유통'], tags=['다이소아성산업']),\n",
              " TaggedDocument(words=['쇼핑', '/', '유통'], tags=['롯데물산롯데월드몰점']),\n",
              " TaggedDocument(words=['쇼핑', '/', '유통'], tags=['롯데물산롯데월드몰점']),\n",
              " TaggedDocument(words=['쇼핑', '/', '유통'], tags=['회기두꺼비왕식자재마트']),\n",
              " TaggedDocument(words=['쇼핑', '/', '유통'], tags=['회기두꺼비왕식자재마트']),\n",
              " TaggedDocument(words=['쇼핑', '/', '유통'], tags=['쮸쮸아이스크림이문점']),\n",
              " TaggedDocument(words=['쇼핑', '/', '유통'], tags=['지마켓_스마일카드 - 지마켓글로벌 유한책']),\n",
              " TaggedDocument(words=['쇼핑', '/', '유통'], tags=['옥션_스마일카드 - 지마켓글로벌 유한책임']),\n",
              " TaggedDocument(words=['문화', '/', '오락', '/', '레져'], tags=['플로라']),\n",
              " TaggedDocument(words=['쇼핑', '/', '유통'], tags=['GS25외대후레쉬점']),\n",
              " TaggedDocument(words=['요식'], tags=['뉴코아강남점 외식 식']),\n",
              " TaggedDocument(words=['쇼핑', '/', '유통'], tags=['에스지시스템']),\n",
              " TaggedDocument(words=['요식'], tags=['빠니니에꽁빠니']),\n",
              " TaggedDocument(words=['쇼핑', '/', '유통'], tags=['씨제이올리브영회기중앙점']),\n",
              " TaggedDocument(words=['의료', '(', '병', '/', '의원', ')'], tags=['미체로의원']),\n",
              " TaggedDocument(words=['의료', '(', '병', '/', '의원', ')'], tags=['미체로의원']),\n",
              " TaggedDocument(words=['쇼핑', '/', '유통'], tags=['회기옥계']),\n",
              " TaggedDocument(words=['요식'], tags=['코타']),\n",
              " TaggedDocument(words=['의료', '(', '병', '/', '의원', ')'], tags=['백수약국']),\n",
              " TaggedDocument(words=['문화', '/', '오락', '/', '레져'], tags=['한국외국어대학교후생과']),\n",
              " TaggedDocument(words=['쇼핑', '/', '유통'], tags=['GS25외대후레쉬점']),\n",
              " TaggedDocument(words=['쇼핑', '/', '유통'], tags=['네이버페이']),\n",
              " TaggedDocument(words=['쇼핑', '/', '유통'], tags=['조던서울']),\n",
              " TaggedDocument(words=['요식'], tags=['왼손우동짜장']),\n",
              " TaggedDocument(words=['기타'], tags=['우티택시_KCP']),\n",
              " TaggedDocument(words=['쇼핑', '/', '유통'], tags=['네이버파이낸셜(주) - 퀸잇']),\n",
              " TaggedDocument(words=['문화', '/', '오락', '/', '레져'], tags=['리코스타코인노래연습장외대2호점']),\n",
              " TaggedDocument(words=['쇼핑', '/', '유통'], tags=['이마트24외대앞역']),\n",
              " TaggedDocument(words=['요식'], tags=['요고요고']),\n",
              " TaggedDocument(words=['쇼핑', '/', '유통'], tags=['토스페이먼츠주식회사 - (주)무신사']),\n",
              " TaggedDocument(words=['쇼핑', '/', '유통'], tags=['우정사업본부동대문']),\n",
              " TaggedDocument(words=['쇼핑', '/', '유통'], tags=['이마트24외대후생관점']),\n",
              " TaggedDocument(words=['쇼핑', '/', '유통'], tags=['이마트24외대후생관점']),\n",
              " TaggedDocument(words=['쇼핑', '/', '유통'], tags=['네이버파이낸셜(주) - 유니클로 온라인 스']),\n",
              " TaggedDocument(words=['쇼핑', '/', '유통'], tags=['이마트에브리데이이문점_일반']),\n",
              " TaggedDocument(words=['쇼핑', '/', '유통'], tags=['네이버파이낸셜(주) - 텀블벅']),\n",
              " TaggedDocument(words=['쇼핑', '/', '유통'], tags=['GS25외대후레쉬점']),\n",
              " TaggedDocument(words=['문화', '/', '오락', '/', '레져'], tags=['강아지고양이편의점']),\n",
              " TaggedDocument(words=['쇼핑', '/', '유통'], tags=['한결축산강릉시장점']),\n",
              " TaggedDocument(words=['기타'], tags=['제다헤어']),\n",
              " TaggedDocument(words=['요식'], tags=['와플대학외대캠퍼스']),\n",
              " TaggedDocument(words=['요식'], tags=['한국맥도날드외대점']),\n",
              " TaggedDocument(words=['쇼핑', '/', '유통'], tags=['GS25외대2점']),\n",
              " TaggedDocument(words=['쇼핑', '/', '유통'], tags=['다이소아성산업']),\n",
              " TaggedDocument(words=['쇼핑', '/', '유통'], tags=['네이버페이']),\n",
              " TaggedDocument(words=['쇼핑', '/', '유통'], tags=['ZERO ED2 할인형 기본 0.7%할인']),\n",
              " TaggedDocument(words=['기타'], tags=['철도승차권 강릉역-청량리역']),\n",
              " TaggedDocument(words=['요식'], tags=['프랭크버거외대역점']),\n",
              " TaggedDocument(words=['요식'], tags=['와플대학외대캠퍼스']),\n",
              " TaggedDocument(words=['교통'], tags=['04월티머니지하철 1건']),\n",
              " TaggedDocument(words=['교통'], tags=['04월티머니버스 1건']),\n",
              " TaggedDocument(words=['교통'], tags=['04월티머니지하철 1건']),\n",
              " TaggedDocument(words=['쇼핑', '/', '유통'], tags=['토스페이먼츠 - (주)코벤시스']),\n",
              " TaggedDocument(words=['쇼핑', '/', '유통'], tags=['이마트에브리데이이문점_일반']),\n",
              " TaggedDocument(words=['쇼핑', '/', '유통'], tags=['스마일페이_마켓컬리']),\n",
              " TaggedDocument(words=['쇼핑', '/', '유통'], tags=['GS25외대후레쉬점']),\n",
              " TaggedDocument(words=['쇼핑', '/', '유통'], tags=['이마트24외대후생관점']),\n",
              " TaggedDocument(words=['쇼핑', '/', '유통'], tags=['이마트24외대후생관점']),\n",
              " TaggedDocument(words=['쇼핑', '/', '유통'], tags=['이마트24외대후생관점']),\n",
              " TaggedDocument(words=['쇼핑', '/', '유통'], tags=['GS25외대기숙사점']),\n",
              " TaggedDocument(words=['쇼핑', '/', '유통'], tags=['네이버페이']),\n",
              " TaggedDocument(words=['쇼핑', '/', '유통'], tags=['네이버파이낸셜']),\n",
              " TaggedDocument(words=['교통'], tags=['03월경기시내버스 1건']),\n",
              " TaggedDocument(words=['교통'], tags=['03월티머니지하철 31건']),\n",
              " TaggedDocument(words=['교통'], tags=['03월티머니버스 14건']),\n",
              " TaggedDocument(words=['쇼핑', '/', '유통'], tags=['이마트24외대후생관점']),\n",
              " TaggedDocument(words=['쇼핑', '/', '유통'], tags=['이마트24외대후생관점']),\n",
              " TaggedDocument(words=['쇼핑', '/', '유통'], tags=['이마트24외대후생관점']),\n",
              " TaggedDocument(words=['쇼핑', '/', '유통'], tags=['이마트24외대후생관점']),\n",
              " TaggedDocument(words=['요식'], tags=['비틀주스']),\n",
              " TaggedDocument(words=['쇼핑', '/', '유통'], tags=['세븐일레븐용인외대정문점']),\n",
              " TaggedDocument(words=['요식'], tags=['던킨도너츠한국외대글로벌캠퍼스점']),\n",
              " TaggedDocument(words=['쇼핑', '/', '유통'], tags=['이마트24외대후생관점']),\n",
              " TaggedDocument(words=['요식'], tags=['냉불앤이백장돈가스']),\n",
              " TaggedDocument(words=['쇼핑', '/', '유통'], tags=['GS25외대기숙사점']),\n",
              " TaggedDocument(words=['요식'], tags=['화이트바']),\n",
              " TaggedDocument(words=['요식'], tags=['한국맥도날드외대점']),\n",
              " TaggedDocument(words=['쇼핑', '/', '유통'], tags=['갤러리아 명품관 식품']),\n",
              " TaggedDocument(words=['쇼핑', '/', '유통'], tags=['세븐일레븐이문대화점']),\n",
              " TaggedDocument(words=['쇼핑', '/', '유통'], tags=['GS25외대후레쉬점']),\n",
              " TaggedDocument(words=['요식'], tags=['파리바게뜨교대2호점']),\n",
              " TaggedDocument(words=['쇼핑', '/', '유통'], tags=['다이소아성산업']),\n",
              " TaggedDocument(words=['의료', '(', '병', '/', '의원', ')'], tags=['신사역365약국']),\n",
              " TaggedDocument(words=['쇼핑', '/', '유통'], tags=['세븐일레븐이문대화점']),\n",
              " TaggedDocument(words=['기타'], tags=['다이소회기역점']),\n",
              " TaggedDocument(words=['쇼핑', '/', '유통'], tags=['지마켓_스마일카드 - 지마켓글로벌 유한책']),\n",
              " TaggedDocument(words=['쇼핑', '/', '유통'], tags=['지마켓_스마일카드 - 지마켓글로벌 유한책']),\n",
              " TaggedDocument(words=['쇼핑', '/', '유통'], tags=['올리브영외대정문점']),\n",
              " TaggedDocument(words=['쇼핑', '/', '유통'], tags=['이마트에브리데이이문점_일반']),\n",
              " TaggedDocument(words=['쇼핑', '/', '유통'], tags=['옥션_스마일카드 - 지마켓글로벌 유한책임']),\n",
              " TaggedDocument(words=['기타'], tags=['택시-서울34아1264']),\n",
              " TaggedDocument(words=['요식'], tags=['도미노피자이문점']),\n",
              " TaggedDocument(words=['쇼핑', '/', '유통'], tags=['롯데물산롯데월드몰점']),\n",
              " TaggedDocument(words=['요식'], tags=['프랭크버거외대역점']),\n",
              " TaggedDocument(words=['쇼핑', '/', '유통'], tags=['GS25외대후레쉬점']),\n",
              " TaggedDocument(words=['쇼핑', '/', '유통'], tags=['세븐일레븐이문대화점']),\n",
              " TaggedDocument(words=['요식'], tags=['에이치디씨아이파크몰']),\n",
              " TaggedDocument(words=['쇼핑', '/', '유통'], tags=['쮸쮸아이스크림이문점']),\n",
              " TaggedDocument(words=['쇼핑', '/', '유통'], tags=['GS25외대후레쉬점']),\n",
              " TaggedDocument(words=['쇼핑', '/', '유통'], tags=['네이버페이']),\n",
              " TaggedDocument(words=['쇼핑', '/', '유통'], tags=['쮸쮸아이스크림이문점']),\n",
              " TaggedDocument(words=['쇼핑', '/', '유통'], tags=['에스지시스템']),\n",
              " TaggedDocument(words=['쇼핑', '/', '유통'], tags=['에스지시스템']),\n",
              " TaggedDocument(words=['쇼핑', '/', '유통'], tags=['에스지시스템']),\n",
              " TaggedDocument(words=['쇼핑', '/', '유통'], tags=['GS25외대후레쉬점']),\n",
              " TaggedDocument(words=['쇼핑', '/', '유통'], tags=['(주)제이티넷 - 씨아이테크']),\n",
              " TaggedDocument(words=['기타'], tags=['프린트카페성신여대점']),\n",
              " TaggedDocument(words=['쇼핑', '/', '유통'], tags=['쮸쮸아이스크림이문점']),\n",
              " TaggedDocument(words=['기타'], tags=['프린트카페성신여대점']),\n",
              " TaggedDocument(words=['기타'], tags=['프린트카페성신여대점']),\n",
              " TaggedDocument(words=['기타'], tags=['프린트카페성신여대점']),\n",
              " TaggedDocument(words=['기타'], tags=['프린트카페성신여대점']),\n",
              " TaggedDocument(words=['기타'], tags=['프린트카페성신여대점']),\n",
              " TaggedDocument(words=['요식'], tags=['한국맥도날드외대점']),\n",
              " TaggedDocument(words=['쇼핑', '/', '유통'], tags=['네이버파이낸셜']),\n",
              " TaggedDocument(words=['기타'], tags=['02월티머니지하철 7건']),\n",
              " TaggedDocument(words=['기타'], tags=['02월티머니버스 1건']),\n",
              " TaggedDocument(words=['쇼핑', '/', '유통'], tags=['ZERO ED2 할인 1.5%_생활필수영역']),\n",
              " TaggedDocument(words=['요식'], tags=['한솥도시락경희대정문점']),\n",
              " TaggedDocument(words=['기타'], tags=['다이소회기역점']),\n",
              " TaggedDocument(words=['요식'], tags=['레알라면']),\n",
              " TaggedDocument(words=['쇼핑', '/', '유통'], tags=['세븐일레븐경희대카페점']),\n",
              " TaggedDocument(words=['요식'], tags=['비비큐']),\n",
              " TaggedDocument(words=['쇼핑', '/', '유통'], tags=['GS25경희원룸점']),\n",
              " TaggedDocument(words=['쇼핑', '/', '유통'], tags=['네이버페이']),\n",
              " TaggedDocument(words=['문화', '/', '오락', '/', '레져'], tags=['오셀롯PC수원매탄직영점']),\n",
              " TaggedDocument(words=['요식'], tags=['골목대장본점']),\n",
              " TaggedDocument(words=['요식'], tags=['투썸플레이스수원영통구청점']),\n",
              " TaggedDocument(words=['기타'], tags=['철도승차권 -부산역']),\n",
              " TaggedDocument(words=['기타'], tags=['철도승차권 영등포역-수원역']),\n",
              " TaggedDocument(words=['요식'], tags=['에이치디씨아이파크몰']),\n",
              " TaggedDocument(words=['쇼핑', '/', '유통'], tags=['KCP - ZARA']),\n",
              " TaggedDocument(words=['nan'], tags=['할부 소계 3건']),\n",
              " TaggedDocument(words=['nan'], tags=['일부결제금액이월약정 일시불 소계 251건']),\n",
              " TaggedDocument(words=['nan'], tags=['총 합계 소계 254건'])]"
            ]
          },
          "metadata": {},
          "execution_count": 275
        }
      ]
    },
    {
      "cell_type": "code",
      "source": [
        "%ls"
      ],
      "metadata": {
        "colab": {
          "base_uri": "https://localhost:8080/"
        },
        "id": "2YTPQBFFo3qI",
        "outputId": "3614649e-a083-4e20-f691-5ab8f8b4ef66"
      },
      "execution_count": null,
      "outputs": [
        {
          "output_type": "stream",
          "name": "stdout",
          "text": [
            "'card_data (1).csv'   card_data.csv\n",
            "'card_data (2).csv'   dart.doc2vec\n",
            "'card_data (3).csv'  'hyundaicard_20220813 (1).csv'\n",
            "'card_data (4).csv'   hyundaicard_20220813.csv\n",
            "'card_data (5).csv'   \u001b[0m\u001b[01;34mimages\u001b[0m/\n",
            "'card_data (6).csv'   install_mecab-ko_on_colab190912.sh\n",
            "'card_data (7).csv'   install_mecab-ko_on_colab_light_220429.sh\n",
            "'card_data (8).csv'   LICENSE\n",
            "'card_data (9).csv'   README.md\n"
          ]
        }
      ]
    },
    {
      "cell_type": "code",
      "source": [
        "# 모델을 로드합니다.\n",
        "model = doc2vec.Doc2Vec.load('dart.doc2vec')"
      ],
      "metadata": {
        "id": "Qp20O1mZo3si"
      },
      "execution_count": null,
      "outputs": []
    },
    {
      "cell_type": "code",
      "source": [
        "similar_doc = model.docvecs.most_similar(tagged_corpus_list[0].tags)\n",
        "print(similar_doc)"
      ],
      "metadata": {
        "colab": {
          "base_uri": "https://localhost:8080/"
        },
        "id": "zorofTkqo3vO",
        "outputId": "c17af974-2b84-4721-d528-1f929d498497"
      },
      "execution_count": null,
      "outputs": [
        {
          "output_type": "stream",
          "name": "stdout",
          "text": [
            "[('백수약국', 0.9973117113113403), ('화양꽃집', 0.9971983432769775), ('미체로의원', 0.9971816539764404), ('더연세유외과의원', 0.997164249420166), ('오셀롯PC수원매탄직영점', 0.9971440434455872), ('한국외국어대학교후생과', 0.9971410036087036), ('신사역365약국', 0.9970935583114624), ('보물섬약국', 0.9970906376838684), ('브리즈피씨카페', 0.9970859885215759), ('리코스타코인노래연습장외대2호점', 0.9970569610595703)]\n"
          ]
        }
      ]
    },
    {
      "cell_type": "code",
      "source": [
        "import requests\n",
        "import re\n",
        "from bs4 import BeautifulSoup\n",
        "\n",
        "#키워드 : 공인중개사\n",
        "url = \"https://search.naver.com/search.naver?where=view&sm=tab_jum&query=\" + match\n",
        "headers = {\"User-Agent\":\"Mozilla/5.0 (Windows NT 10.0; Win64; x64) AppleWebKit/537.36 (KHTML, like Gecko) Chrome/90.0.4430.93 Safari/537.36\"}\n",
        "res = requests.get(url, headers=headers)\n",
        "res.raise_for_status()\n",
        "idx = 0\n",
        "\n",
        "soup = BeautifulSoup(res.text, \"lxml\") # 가져온 문서를 lxml 파서를 통해서 BeautifulSoup객체로 만듬. soup에 모든 정보가 들어있음.\n",
        "\n",
        "gongin = soup.find_all(\"div\", attrs={\"class\":\"total_wrap api_ani_send\"})\n",
        "\n",
        "for gongins in gongin:\n",
        "    title = gongins.find(\"a\", attrs={\"class\":\"api_txt_lines total_tit _cross_trigger\"}).get_text()\n",
        "    link = gongins.a[\"href\"]\n",
        "    p = re.compile(\"cafe\")\n",
        "    m = p.search(link)\n",
        "\n",
        "    if m:\n",
        "        #print(\"카페 제외\")\n",
        "        continue\n",
        "    print(title)\n",
        "    print(link)\n",
        "    idx = idx + 1\n",
        "\n",
        "    if idx > 9 :\n",
        "        break"
      ],
      "metadata": {
        "colab": {
          "base_uri": "https://localhost:8080/"
        },
        "id": "cf5kvmMR5d1u",
        "outputId": "f19aa09c-9da6-4bbf-c503-8001d3c09643"
      },
      "execution_count": null,
      "outputs": [
        {
          "output_type": "stream",
          "name": "stdout",
          "text": [
            "폴로랄프로렌 자켓, 니트 추천 :] 폴로랄프로렌 현대백화점 목동점 방문 리뷰\n",
            "#\n",
            "현대백화점 목동점 폴로 랄프로렌 베어 니트 스웨터 내돈내산 후기샷\n",
            "#\n",
            "대구 현대백화점:) 폴로 랄프로렌 피마코튼 가디건\n",
            "#\n",
            "폴로 랄프로렌 건클럽체크 블레이져, 네이비 헤링본 블레이져, 브라운 헤링본 블레이져\n",
            "#\n",
            "현대백화점 폴로 랄프로렌 신상 셔츠원피스 선물 받았어요 꺅~\n",
            "#\n",
            "설 연휴 폴로 랄프로렌, 클럽모나코 득템 후기\n",
            "#\n",
            "폴로랄프로렌 베이스볼 캡 / 김포현대아울렛 폴로 모자네이비, 블랙 득템\n",
            "#\n",
            "220524 송도 현대 프리미엄 아울렛 폴로 랄프로렌 여름상품 둘러보기, 송현아\n",
            "#\n",
            "현대백화점 유아 폴로랄프로렌 니트 + 셔츠원피스\n",
            "#\n",
            "폴로 랄프로렌 현대백화점 12카드 적용되나요??\n",
            "#\n"
          ]
        }
      ]
    }
  ]
}